{
 "cells": [
  {
   "cell_type": "code",
   "execution_count": 59,
   "id": "4f201bc4",
   "metadata": {},
   "outputs": [],
   "source": [
    "import pandas as pd\n",
    "import numpy as np\n",
    "import matplotlib.pyplot as plt\n",
    "import seaborn as sns\n",
    "import os"
   ]
  },
  {
   "cell_type": "code",
   "execution_count": 60,
   "id": "8fcf485d",
   "metadata": {},
   "outputs": [
    {
     "name": "stdout",
     "output_type": "stream",
     "text": [
      "           Suburb             Address  Rooms Type      Price Method  \\\n",
      "0      Abbotsford       68 Studley St      2    h        NaN     SS   \n",
      "1      Abbotsford        85 Turner St      2    h  1480000.0      S   \n",
      "2      Abbotsford     25 Bloomburg St      2    h  1035000.0      S   \n",
      "3      Abbotsford  18/659 Victoria St      3    u        NaN     VB   \n",
      "4      Abbotsford        5 Charles St      3    h  1465000.0     SP   \n",
      "...           ...                 ...    ...  ...        ...    ...   \n",
      "34852  Yarraville         13 Burns St      4    h  1480000.0     PI   \n",
      "34853  Yarraville       29A Murray St      2    h   888000.0     SP   \n",
      "34854  Yarraville      147A Severn St      2    t   705000.0      S   \n",
      "34855  Yarraville    12/37 Stephen St      3    h  1140000.0     SP   \n",
      "34856  Yarraville    3 Tarrengower St      2    h  1020000.0     PI   \n",
      "\n",
      "             SellerG        Date  Distance  Postcode  ...  Bathroom  Car  \\\n",
      "0             Jellis   3/09/2016       2.5    3067.0  ...       1.0  1.0   \n",
      "1             Biggin   3/12/2016       2.5    3067.0  ...       1.0  1.0   \n",
      "2             Biggin   4/02/2016       2.5    3067.0  ...       1.0  0.0   \n",
      "3             Rounds   4/02/2016       2.5    3067.0  ...       2.0  1.0   \n",
      "4             Biggin   4/03/2017       2.5    3067.0  ...       2.0  0.0   \n",
      "...              ...         ...       ...       ...  ...       ...  ...   \n",
      "34852            Jas  24/02/2018       6.3    3013.0  ...       1.0  3.0   \n",
      "34853        Sweeney  24/02/2018       6.3    3013.0  ...       2.0  1.0   \n",
      "34854            Jas  24/02/2018       6.3    3013.0  ...       1.0  2.0   \n",
      "34855  hockingstuart  24/02/2018       6.3    3013.0  ...       NaN  NaN   \n",
      "34856             RW  24/02/2018       6.3    3013.0  ...       1.0  0.0   \n",
      "\n",
      "       Landsize  BuildingArea  YearBuilt               CouncilArea Lattitude  \\\n",
      "0         126.0           NaN        NaN        Yarra City Council -37.80140   \n",
      "1         202.0           NaN        NaN        Yarra City Council -37.79960   \n",
      "2         156.0          79.0     1900.0        Yarra City Council -37.80790   \n",
      "3           0.0           NaN        NaN        Yarra City Council -37.81140   \n",
      "4         134.0         150.0     1900.0        Yarra City Council -37.80930   \n",
      "...         ...           ...        ...                       ...       ...   \n",
      "34852     593.0           NaN        NaN  Maribyrnong City Council -37.81053   \n",
      "34853      98.0         104.0     2018.0  Maribyrnong City Council -37.81551   \n",
      "34854     220.0         120.0     2000.0  Maribyrnong City Council -37.82286   \n",
      "34855       NaN           NaN        NaN  Maribyrnong City Council       NaN   \n",
      "34856     250.0         103.0     1930.0  Maribyrnong City Council -37.81810   \n",
      "\n",
      "       Longtitude             Regionname Propertycount  \n",
      "0       144.99580  Northern Metropolitan        4019.0  \n",
      "1       144.99840  Northern Metropolitan        4019.0  \n",
      "2       144.99340  Northern Metropolitan        4019.0  \n",
      "3       145.01160  Northern Metropolitan        4019.0  \n",
      "4       144.99440  Northern Metropolitan        4019.0  \n",
      "...           ...                    ...           ...  \n",
      "34852   144.88467   Western Metropolitan        6543.0  \n",
      "34853   144.88826   Western Metropolitan        6543.0  \n",
      "34854   144.87856   Western Metropolitan        6543.0  \n",
      "34855         NaN   Western Metropolitan        6543.0  \n",
      "34856   144.89351   Western Metropolitan        6543.0  \n",
      "\n",
      "[34857 rows x 21 columns]\n"
     ]
    }
   ],
   "source": [
    "#read csv\n",
    "df= pd.read_csv('Melbourne_housing_FULL.csv')\n",
    "print(df)"
   ]
  },
  {
   "cell_type": "code",
   "execution_count": 61,
   "id": "6be2d2d1",
   "metadata": {},
   "outputs": [
    {
     "name": "stdout",
     "output_type": "stream",
     "text": [
      "<class 'pandas.core.frame.DataFrame'>\n",
      "RangeIndex: 34857 entries, 0 to 34856\n",
      "Data columns (total 21 columns):\n",
      " #   Column         Non-Null Count  Dtype  \n",
      "---  ------         --------------  -----  \n",
      " 0   Suburb         34857 non-null  object \n",
      " 1   Address        34857 non-null  object \n",
      " 2   Rooms          34857 non-null  int64  \n",
      " 3   Type           34857 non-null  object \n",
      " 4   Price          27247 non-null  float64\n",
      " 5   Method         34857 non-null  object \n",
      " 6   SellerG        34857 non-null  object \n",
      " 7   Date           34857 non-null  object \n",
      " 8   Distance       34856 non-null  float64\n",
      " 9   Postcode       34856 non-null  float64\n",
      " 10  Bedroom2       26640 non-null  float64\n",
      " 11  Bathroom       26631 non-null  float64\n",
      " 12  Car            26129 non-null  float64\n",
      " 13  Landsize       23047 non-null  float64\n",
      " 14  BuildingArea   13742 non-null  float64\n",
      " 15  YearBuilt      15551 non-null  float64\n",
      " 16  CouncilArea    34854 non-null  object \n",
      " 17  Lattitude      26881 non-null  float64\n",
      " 18  Longtitude     26881 non-null  float64\n",
      " 19  Regionname     34854 non-null  object \n",
      " 20  Propertycount  34854 non-null  float64\n",
      "dtypes: float64(12), int64(1), object(8)\n",
      "memory usage: 5.6+ MB\n",
      "None\n"
     ]
    }
   ],
   "source": [
    "#shape of data\n",
    "print(df.info())"
   ]
  },
  {
   "cell_type": "code",
   "execution_count": 62,
   "id": "e2753ae3",
   "metadata": {},
   "outputs": [
    {
     "name": "stdout",
     "output_type": "stream",
     "text": [
      "sum\n",
      "BuildingArea     21115\n",
      "YearBuilt        19306\n",
      "Landsize         11810\n",
      "Car               8728\n",
      "Bathroom          8226\n",
      "Bedroom2          8217\n",
      "Longtitude        7976\n",
      "Lattitude         7976\n",
      "Price             7610\n",
      "Regionname           3\n",
      "CouncilArea          3\n",
      "Propertycount        3\n",
      "Postcode             1\n",
      "Distance             1\n",
      "Address              0\n",
      "Date                 0\n",
      "SellerG              0\n",
      "Method               0\n",
      "Type                 0\n",
      "Rooms                0\n",
      "Suburb               0\n",
      "dtype: int64\n"
     ]
    }
   ],
   "source": [
    "#summing up the missing values\n",
    "print(\"sum\")\n",
    "data=df.isnull().sum().sort_values(ascending=False)\n",
    "print(data)"
   ]
  },
  {
   "cell_type": "code",
   "execution_count": 63,
   "id": "a9c72882",
   "metadata": {},
   "outputs": [
    {
     "data": {
      "text/plain": [
       "<AxesSubplot:>"
      ]
     },
     "execution_count": 63,
     "metadata": {},
     "output_type": "execute_result"
    },
    {
     "data": {
      "image/png": "[encoded data removed]",
      "text/plain": [
       "<Figure size 432x288 with 2 Axes>"
      ]
     },
     "metadata": {
      "needs_background": "light"
     },
     "output_type": "display_data"
    }
   ],
   "source": [
    "sns.heatmap(df.isnull(), yticklabels=False)"
   ]
  },
  {
   "cell_type": "code",
   "execution_count": 64,
   "id": "cc3a418c",
   "metadata": {},
   "outputs": [],
   "source": [
    "#totally black means dataset is perfect"
   ]
  },
  {
   "cell_type": "code",
   "execution_count": null,
   "id": "17fe63bf",
   "metadata": {},
   "outputs": [],
   "source": []
  },
  {
   "cell_type": "code",
   "execution_count": 65,
   "id": "a54d3bc8",
   "metadata": {},
   "outputs": [
    {
     "name": "stdout",
     "output_type": "stream",
     "text": [
      "row wise max. missing values   29483    13\n",
      "18523    11\n",
      "26888    11\n",
      "32125     9\n",
      "11231     9\n",
      "1696      9\n",
      "28322     9\n",
      "1700      9\n",
      "17635     9\n",
      "6044      9\n",
      "dtype: int64\n"
     ]
    }
   ],
   "source": [
    "#data cleaning is nothing but to digest this null data\n",
    "#missing values row wise\n",
    "data1=df.isnull().sum(axis=1).sort_values(ascending=False).head(10)\n",
    "print(\"row wise max. missing values\",\" \",data1)"
   ]
  },
  {
   "cell_type": "code",
   "execution_count": 66,
   "id": "0f67eed3",
   "metadata": {},
   "outputs": [
    {
     "name": "stdout",
     "output_type": "stream",
     "text": [
      "Suburb           False\n",
      "Address          False\n",
      "Rooms            False\n",
      "Type             False\n",
      "Price             True\n",
      "Method           False\n",
      "SellerG          False\n",
      "Date             False\n",
      "Distance          True\n",
      "Postcode          True\n",
      "Bedroom2          True\n",
      "Bathroom          True\n",
      "Car               True\n",
      "Landsize          True\n",
      "BuildingArea      True\n",
      "YearBuilt         True\n",
      "CouncilArea       True\n",
      "Lattitude         True\n",
      "Longtitude        True\n",
      "Regionname        True\n",
      "Propertycount     True\n",
      "dtype: bool\n"
     ]
    }
   ],
   "source": [
    "#find the index which has atleast one missing value\n",
    "data=df.isnull().any()>0\n",
    "print(data)"
   ]
  },
  {
   "cell_type": "code",
   "execution_count": 67,
   "id": "42126f55",
   "metadata": {},
   "outputs": [
    {
     "name": "stdout",
     "output_type": "stream",
     "text": [
      "Index(['Suburb', 'Address', 'Rooms', 'Type', 'Price', 'Method', 'SellerG',\n",
      "       'Date', 'Distance', 'Postcode', 'Bedroom2', 'Bathroom', 'Car',\n",
      "       'Landsize', 'BuildingArea', 'YearBuilt', 'CouncilArea', 'Lattitude',\n",
      "       'Longtitude', 'Regionname', 'Propertycount'],\n",
      "      dtype='object')\n",
      "[False False False False  True False False False  True  True  True  True\n",
      "  True  True  True  True  True  True  True  True  True]\n",
      "--------- Index(['Price', 'Distance', 'Postcode', 'Bedroom2', 'Bathroom', 'Car',\n",
      "       'Landsize', 'BuildingArea', 'YearBuilt', 'CouncilArea', 'Lattitude',\n",
      "       'Longtitude', 'Regionname', 'Propertycount'],\n",
      "      dtype='object')\n"
     ]
    }
   ],
   "source": [
    "print(data.index)\n",
    "print(data.values)\n",
    "#those columns which has only true ans.for null value\n",
    "print(\"---------\",data.index[data.values])"
   ]
  },
  {
   "cell_type": "code",
   "execution_count": 68,
   "id": "74a2c00d",
   "metadata": {},
   "outputs": [
    {
     "name": "stdout",
     "output_type": "stream",
     "text": [
      "in column Suburb           False\n",
      "Address          False\n",
      "Rooms            False\n",
      "Type             False\n",
      "Price            False\n",
      "Method           False\n",
      "SellerG          False\n",
      "Date             False\n",
      "Distance         False\n",
      "Postcode         False\n",
      "Bedroom2         False\n",
      "Bathroom         False\n",
      "Car              False\n",
      "Landsize         False\n",
      "BuildingArea     False\n",
      "YearBuilt        False\n",
      "CouncilArea      False\n",
      "Lattitude        False\n",
      "Longtitude       False\n",
      "Regionname       False\n",
      "Propertycount    False\n",
      "dtype: bool\n"
     ]
    }
   ],
   "source": [
    "#column having all missing values\n",
    "data=df.isnull().all(axis=0)\n",
    "print(\"in column\",data)"
   ]
  },
  {
   "cell_type": "code",
   "execution_count": 69,
   "id": "d476eb9a",
   "metadata": {},
   "outputs": [
    {
     "name": "stdout",
     "output_type": "stream",
     "text": [
      "for rows= 0\n"
     ]
    }
   ],
   "source": [
    "#that means there are no such columns having all the values as null\n",
    "#checking this same for rows\n",
    "\n",
    "data=df.isnull().all(axis=1).sum()\n",
    "print(\"for rows=\",data)"
   ]
  },
  {
   "cell_type": "code",
   "execution_count": 70,
   "id": "d111a758",
   "metadata": {},
   "outputs": [
    {
     "name": "stdout",
     "output_type": "stream",
     "text": [
      "in % BuildingArea     60.576068\n",
      "YearBuilt        55.386293\n",
      "Landsize         33.881286\n",
      "Car              25.039447\n",
      "Bathroom         23.599277\n",
      "Bedroom2         23.573457\n",
      "Longtitude       22.882061\n",
      "Lattitude        22.882061\n",
      "Price            21.832057\n",
      "Regionname        0.008607\n",
      "CouncilArea       0.008607\n",
      "Propertycount     0.008607\n",
      "Postcode          0.002869\n",
      "Distance          0.002869\n",
      "Address           0.000000\n",
      "Date              0.000000\n",
      "SellerG           0.000000\n",
      "Method            0.000000\n",
      "Type              0.000000\n",
      "Rooms             0.000000\n",
      "Suburb            0.000000\n",
      "dtype: float64\n",
      "BuildingArea     60.58\n",
      "YearBuilt        55.39\n",
      "Landsize         33.88\n",
      "Car              25.04\n",
      "Bathroom         23.60\n",
      "Bedroom2         23.57\n",
      "Longtitude       22.88\n",
      "Lattitude        22.88\n",
      "Price            21.83\n",
      "Regionname        0.01\n",
      "CouncilArea       0.01\n",
      "Propertycount     0.01\n",
      "Postcode          0.00\n",
      "Distance          0.00\n",
      "Address           0.00\n",
      "Date              0.00\n",
      "SellerG           0.00\n",
      "Method            0.00\n",
      "Type              0.00\n",
      "Rooms             0.00\n",
      "Suburb            0.00\n",
      "dtype: float64\n"
     ]
    }
   ],
   "source": [
    "#checking missing values in percentage colimn wise\n",
    "data=df.isnull().sum().sort_values(ascending=False)/len(df)*100\n",
    "print(\"in %\",data)\n",
    "print(round(df.isnull().sum().sort_values(ascending=False)/len(df)*100,2))"
   ]
  },
  {
   "cell_type": "code",
   "execution_count": 71,
   "id": "eacc9ecd",
   "metadata": {},
   "outputs": [
    {
     "name": "stdout",
     "output_type": "stream",
     "text": [
      "['BuildingArea' 'YearBuilt' 'Landsize']\n",
      "           Suburb             Address  Rooms Type      Price Method  \\\n",
      "0      Abbotsford       68 Studley St      2    h        NaN     SS   \n",
      "1      Abbotsford        85 Turner St      2    h  1480000.0      S   \n",
      "2      Abbotsford     25 Bloomburg St      2    h  1035000.0      S   \n",
      "3      Abbotsford  18/659 Victoria St      3    u        NaN     VB   \n",
      "4      Abbotsford        5 Charles St      3    h  1465000.0     SP   \n",
      "...           ...                 ...    ...  ...        ...    ...   \n",
      "34852  Yarraville         13 Burns St      4    h  1480000.0     PI   \n",
      "34853  Yarraville       29A Murray St      2    h   888000.0     SP   \n",
      "34854  Yarraville      147A Severn St      2    t   705000.0      S   \n",
      "34855  Yarraville    12/37 Stephen St      3    h  1140000.0     SP   \n",
      "34856  Yarraville    3 Tarrengower St      2    h  1020000.0     PI   \n",
      "\n",
      "             SellerG        Date  Distance  Postcode  Bedroom2  Bathroom  Car  \\\n",
      "0             Jellis   3/09/2016       2.5    3067.0       2.0       1.0  1.0   \n",
      "1             Biggin   3/12/2016       2.5    3067.0       2.0       1.0  1.0   \n",
      "2             Biggin   4/02/2016       2.5    3067.0       2.0       1.0  0.0   \n",
      "3             Rounds   4/02/2016       2.5    3067.0       3.0       2.0  1.0   \n",
      "4             Biggin   4/03/2017       2.5    3067.0       3.0       2.0  0.0   \n",
      "...              ...         ...       ...       ...       ...       ...  ...   \n",
      "34852            Jas  24/02/2018       6.3    3013.0       4.0       1.0  3.0   \n",
      "34853        Sweeney  24/02/2018       6.3    3013.0       2.0       2.0  1.0   \n",
      "34854            Jas  24/02/2018       6.3    3013.0       2.0       1.0  2.0   \n",
      "34855  hockingstuart  24/02/2018       6.3    3013.0       NaN       NaN  NaN   \n",
      "34856             RW  24/02/2018       6.3    3013.0       2.0       1.0  0.0   \n",
      "\n",
      "                    CouncilArea  Lattitude  Longtitude             Regionname  \\\n",
      "0            Yarra City Council  -37.80140   144.99580  Northern Metropolitan   \n",
      "1            Yarra City Council  -37.79960   144.99840  Northern Metropolitan   \n",
      "2            Yarra City Council  -37.80790   144.99340  Northern Metropolitan   \n",
      "3            Yarra City Council  -37.81140   145.01160  Northern Metropolitan   \n",
      "4            Yarra City Council  -37.80930   144.99440  Northern Metropolitan   \n",
      "...                         ...        ...         ...                    ...   \n",
      "34852  Maribyrnong City Council  -37.81053   144.88467   Western Metropolitan   \n",
      "34853  Maribyrnong City Council  -37.81551   144.88826   Western Metropolitan   \n",
      "34854  Maribyrnong City Council  -37.82286   144.87856   Western Metropolitan   \n",
      "34855  Maribyrnong City Council        NaN         NaN   Western Metropolitan   \n",
      "34856  Maribyrnong City Council  -37.81810   144.89351   Western Metropolitan   \n",
      "\n",
      "       Propertycount  \n",
      "0             4019.0  \n",
      "1             4019.0  \n",
      "2             4019.0  \n",
      "3             4019.0  \n",
      "4             4019.0  \n",
      "...              ...  \n",
      "34852         6543.0  \n",
      "34853         6543.0  \n",
      "34854         6543.0  \n",
      "34855         6543.0  \n",
      "34856         6543.0  \n",
      "\n",
      "[34857 rows x 18 columns]\n"
     ]
    }
   ],
   "source": [
    "#removing columns where the null values percentages\n",
    "\n",
    "datas=df.isnull().sum().sort_values(ascending=False).head(3).index.values\n",
    "print(datas)\n",
    "df1=df.drop(datas,axis='columns')\n",
    "print(df1)"
   ]
  },
  {
   "cell_type": "code",
   "execution_count": 72,
   "id": "6f836d08",
   "metadata": {},
   "outputs": [
    {
     "name": "stdout",
     "output_type": "stream",
     "text": [
      "                  Suburb            Address  Rooms Type  Price Method  \\\n",
      "34            Abbotsford    16b Mollison St      2    h    NaN     PI   \n",
      "60            Abbotsford  4/328 Johnston St      2    u    NaN     PI   \n",
      "121         Airport West   2/89 Marshall Rd      3    u    NaN     VB   \n",
      "207           Alphington   4/5 Chandler Hwy      4    t    NaN     PN   \n",
      "211           Alphington        11 Tower Av      4    h    NaN      S   \n",
      "...                  ...                ...    ...  ...    ...    ...   \n",
      "34769       Surrey Hills       1/4 Wells St      2    u    NaN     SP   \n",
      "34779  Templestowe Lower     11/231 High St      3    u    NaN     SN   \n",
      "34792          Thornbury  83/337 Station St      2    u    NaN      S   \n",
      "34813     Wantirna South   11/61 Cathies La      4    t    NaN      W   \n",
      "34829     West Melbourne   9/11 Anderson St      3    u    NaN      S   \n",
      "\n",
      "             SellerG        Date  Distance  Postcode  Bedroom2  Bathroom  Car  \\\n",
      "34            Biggin  16/07/2016       2.5    3067.0       NaN       NaN  NaN   \n",
      "60            Biggin  28/05/2016       2.5    3067.0       NaN       NaN  NaN   \n",
      "121            Barry  25/02/2017      13.5    3042.0       NaN       NaN  NaN   \n",
      "207           Nelson  13/08/2016       6.4    3078.0       NaN       NaN  NaN   \n",
      "211           Jellis  16/04/2016       6.4    3078.0       NaN       NaN  NaN   \n",
      "...              ...         ...       ...       ...       ...       ...  ...   \n",
      "34769         Jellis  24/02/2018      10.2    3127.0       NaN       NaN  NaN   \n",
      "34779       Woodards  24/02/2018      12.4    3107.0       NaN       NaN  NaN   \n",
      "34792         Nelson  24/02/2018       7.0    3071.0       NaN       NaN  NaN   \n",
      "34813      Harcourts  24/02/2018      14.7    3152.0       NaN       NaN  NaN   \n",
      "34829  hockingstuart  24/02/2018       3.1    3003.0       NaN       NaN  NaN   \n",
      "\n",
      "                      CouncilArea  Lattitude  Longtitude  \\\n",
      "34             Yarra City Council        NaN         NaN   \n",
      "60             Yarra City Council        NaN         NaN   \n",
      "121    Moonee Valley City Council        NaN         NaN   \n",
      "207          Darebin City Council        NaN         NaN   \n",
      "211          Darebin City Council        NaN         NaN   \n",
      "...                           ...        ...         ...   \n",
      "34769     Boroondara City Council        NaN         NaN   \n",
      "34779     Manningham City Council        NaN         NaN   \n",
      "34792        Darebin City Council        NaN         NaN   \n",
      "34813           Knox City Council        NaN         NaN   \n",
      "34829      Melbourne City Council        NaN         NaN   \n",
      "\n",
      "                  Regionname  Propertycount  \n",
      "34     Northern Metropolitan         4019.0  \n",
      "60     Northern Metropolitan         4019.0  \n",
      "121     Western Metropolitan         3464.0  \n",
      "207    Northern Metropolitan         2211.0  \n",
      "211    Northern Metropolitan         2211.0  \n",
      "...                      ...            ...  \n",
      "34769  Southern Metropolitan         5457.0  \n",
      "34779   Eastern Metropolitan         5420.0  \n",
      "34792  Northern Metropolitan         8870.0  \n",
      "34813   Eastern Metropolitan         7082.0  \n",
      "34829  Northern Metropolitan         2230.0  \n",
      "\n",
      "[1721 rows x 18 columns]\n"
     ]
    }
   ],
   "source": [
    "#checking rows which have more than 5 missing values\n",
    "data=df1[df1.isnull().sum(axis=1)>5]\n",
    "print(data)"
   ]
  },
  {
   "cell_type": "code",
   "execution_count": 73,
   "id": "2df49f67",
   "metadata": {},
   "outputs": [
    {
     "name": "stdout",
     "output_type": "stream",
     "text": [
      "4.94\n"
     ]
    }
   ],
   "source": [
    "#checking in percentage which has more than 5 null values in rows\n",
    "\n",
    "data=round(len(df1[df1.isnull().sum(axis=1)>5])/len(df1)*100,2)\n",
    "print(data)"
   ]
  },
  {
   "cell_type": "code",
   "execution_count": 74,
   "id": "81b074e6",
   "metadata": {},
   "outputs": [
    {
     "name": "stdout",
     "output_type": "stream",
     "text": [
      "           Suburb             Address  Rooms Type      Price Method  \\\n",
      "0      Abbotsford       68 Studley St      2    h        NaN     SS   \n",
      "1      Abbotsford        85 Turner St      2    h  1480000.0      S   \n",
      "2      Abbotsford     25 Bloomburg St      2    h  1035000.0      S   \n",
      "3      Abbotsford  18/659 Victoria St      3    u        NaN     VB   \n",
      "4      Abbotsford        5 Charles St      3    h  1465000.0     SP   \n",
      "...           ...                 ...    ...  ...        ...    ...   \n",
      "34852  Yarraville         13 Burns St      4    h  1480000.0     PI   \n",
      "34853  Yarraville       29A Murray St      2    h   888000.0     SP   \n",
      "34854  Yarraville      147A Severn St      2    t   705000.0      S   \n",
      "34855  Yarraville    12/37 Stephen St      3    h  1140000.0     SP   \n",
      "34856  Yarraville    3 Tarrengower St      2    h  1020000.0     PI   \n",
      "\n",
      "             SellerG        Date  Distance  Postcode  Bedroom2  Bathroom  Car  \\\n",
      "0             Jellis   3/09/2016       2.5    3067.0       2.0       1.0  1.0   \n",
      "1             Biggin   3/12/2016       2.5    3067.0       2.0       1.0  1.0   \n",
      "2             Biggin   4/02/2016       2.5    3067.0       2.0       1.0  0.0   \n",
      "3             Rounds   4/02/2016       2.5    3067.0       3.0       2.0  1.0   \n",
      "4             Biggin   4/03/2017       2.5    3067.0       3.0       2.0  0.0   \n",
      "...              ...         ...       ...       ...       ...       ...  ...   \n",
      "34852            Jas  24/02/2018       6.3    3013.0       4.0       1.0  3.0   \n",
      "34853        Sweeney  24/02/2018       6.3    3013.0       2.0       2.0  1.0   \n",
      "34854            Jas  24/02/2018       6.3    3013.0       2.0       1.0  2.0   \n",
      "34855  hockingstuart  24/02/2018       6.3    3013.0       NaN       NaN  NaN   \n",
      "34856             RW  24/02/2018       6.3    3013.0       2.0       1.0  0.0   \n",
      "\n",
      "                    CouncilArea  Lattitude  Longtitude             Regionname  \\\n",
      "0            Yarra City Council  -37.80140   144.99580  Northern Metropolitan   \n",
      "1            Yarra City Council  -37.79960   144.99840  Northern Metropolitan   \n",
      "2            Yarra City Council  -37.80790   144.99340  Northern Metropolitan   \n",
      "3            Yarra City Council  -37.81140   145.01160  Northern Metropolitan   \n",
      "4            Yarra City Council  -37.80930   144.99440  Northern Metropolitan   \n",
      "...                         ...        ...         ...                    ...   \n",
      "34852  Maribyrnong City Council  -37.81053   144.88467   Western Metropolitan   \n",
      "34853  Maribyrnong City Council  -37.81551   144.88826   Western Metropolitan   \n",
      "34854  Maribyrnong City Council  -37.82286   144.87856   Western Metropolitan   \n",
      "34855  Maribyrnong City Council        NaN         NaN   Western Metropolitan   \n",
      "34856  Maribyrnong City Council  -37.81810   144.89351   Western Metropolitan   \n",
      "\n",
      "       Propertycount  \n",
      "0             4019.0  \n",
      "1             4019.0  \n",
      "2             4019.0  \n",
      "3             4019.0  \n",
      "4             4019.0  \n",
      "...              ...  \n",
      "34852         6543.0  \n",
      "34853         6543.0  \n",
      "34854         6543.0  \n",
      "34855         6543.0  \n",
      "34856         6543.0  \n",
      "\n",
      "[33136 rows x 18 columns]\n",
      "(33136, 18)\n"
     ]
    }
   ],
   "source": [
    "#retaining the rows having less than or equal to 5 values\n",
    "df1=df1[df1.isnull().sum(axis=1)<=5]\n",
    "print(df1)\n",
    "print(df1.shape)"
   ]
  },
  {
   "cell_type": "code",
   "execution_count": 75,
   "id": "cff3aecb",
   "metadata": {},
   "outputs": [
    {
     "name": "stdout",
     "output_type": "stream",
     "text": [
      "Car              21.15\n",
      "Bathroom         19.63\n",
      "Bedroom2         19.60\n",
      "Longtitude       18.88\n",
      "Lattitude        18.88\n",
      "Price            17.78\n",
      "Suburb            0.00\n",
      "Regionname        0.00\n",
      "CouncilArea       0.00\n",
      "Postcode          0.00\n",
      "Address           0.00\n",
      "Distance          0.00\n",
      "Date              0.00\n",
      "SellerG           0.00\n",
      "Method            0.00\n",
      "Type              0.00\n",
      "Rooms             0.00\n",
      "Propertycount     0.00\n",
      "dtype: float64\n"
     ]
    }
   ],
   "source": [
    "#now checking remaining data of null values\n",
    "data=round(df1.isnull().sum().sort_values(ascending=False)/len(df1)*100,2)\n",
    "print(data)"
   ]
  },
  {
   "cell_type": "code",
   "execution_count": 76,
   "id": "6adebca1",
   "metadata": {},
   "outputs": [
    {
     "name": "stdout",
     "output_type": "stream",
     "text": [
      "           Suburb             Address  Rooms Type      Price Method  SellerG  \\\n",
      "0      Abbotsford       68 Studley St      2    h        NaN     SS   Jellis   \n",
      "1      Abbotsford        85 Turner St      2    h  1480000.0      S   Biggin   \n",
      "2      Abbotsford     25 Bloomburg St      2    h  1035000.0      S   Biggin   \n",
      "3      Abbotsford  18/659 Victoria St      3    u        NaN     VB   Rounds   \n",
      "4      Abbotsford        5 Charles St      3    h  1465000.0     SP   Biggin   \n",
      "...           ...                 ...    ...  ...        ...    ...      ...   \n",
      "34850     Wollert    15 Rockgarden Wy      3    h        NaN     SP       LJ   \n",
      "34852  Yarraville         13 Burns St      4    h  1480000.0     PI      Jas   \n",
      "34853  Yarraville       29A Murray St      2    h   888000.0     SP  Sweeney   \n",
      "34854  Yarraville      147A Severn St      2    t   705000.0      S      Jas   \n",
      "34856  Yarraville    3 Tarrengower St      2    h  1020000.0     PI       RW   \n",
      "\n",
      "             Date  Distance  Postcode  Bedroom2  Bathroom  Car  \\\n",
      "0       3/09/2016       2.5    3067.0       2.0       1.0  1.0   \n",
      "1       3/12/2016       2.5    3067.0       2.0       1.0  1.0   \n",
      "2       4/02/2016       2.5    3067.0       2.0       1.0  0.0   \n",
      "3       4/02/2016       2.5    3067.0       3.0       2.0  1.0   \n",
      "4       4/03/2017       2.5    3067.0       3.0       2.0  0.0   \n",
      "...           ...       ...       ...       ...       ...  ...   \n",
      "34850  24/02/2018      25.5    3750.0       3.0       2.0  2.0   \n",
      "34852  24/02/2018       6.3    3013.0       4.0       1.0  3.0   \n",
      "34853  24/02/2018       6.3    3013.0       2.0       2.0  1.0   \n",
      "34854  24/02/2018       6.3    3013.0       2.0       1.0  2.0   \n",
      "34856  24/02/2018       6.3    3013.0       2.0       1.0  0.0   \n",
      "\n",
      "                    CouncilArea  Lattitude  Longtitude             Regionname  \\\n",
      "0            Yarra City Council  -37.80140   144.99580  Northern Metropolitan   \n",
      "1            Yarra City Council  -37.79960   144.99840  Northern Metropolitan   \n",
      "2            Yarra City Council  -37.80790   144.99340  Northern Metropolitan   \n",
      "3            Yarra City Council  -37.81140   145.01160  Northern Metropolitan   \n",
      "4            Yarra City Council  -37.80930   144.99440  Northern Metropolitan   \n",
      "...                         ...        ...         ...                    ...   \n",
      "34850   Whittlesea City Council  -37.61094   145.04281  Northern Metropolitan   \n",
      "34852  Maribyrnong City Council  -37.81053   144.88467   Western Metropolitan   \n",
      "34853  Maribyrnong City Council  -37.81551   144.88826   Western Metropolitan   \n",
      "34854  Maribyrnong City Council  -37.82286   144.87856   Western Metropolitan   \n",
      "34856  Maribyrnong City Council  -37.81810   144.89351   Western Metropolitan   \n",
      "\n",
      "       Propertycount  \n",
      "0             4019.0  \n",
      "1             4019.0  \n",
      "2             4019.0  \n",
      "3             4019.0  \n",
      "4             4019.0  \n",
      "...              ...  \n",
      "34850         2940.0  \n",
      "34852         6543.0  \n",
      "34853         6543.0  \n",
      "34854         6543.0  \n",
      "34856         6543.0  \n",
      "\n",
      "[26129 rows x 18 columns]\n"
     ]
    }
   ],
   "source": [
    "#by doing this what we found that car, Bathroom, Bedroom2, Longitude,Lattitude and Price still have maximum no. of nukk values \n",
    "#so what we do now we just delete those null rows in those columns\n",
    "data=df1[df1['Car'].notnull()]\n",
    "print(data)"
   ]
  },
  {
   "cell_type": "code",
   "execution_count": 77,
   "id": "0dc81d17",
   "metadata": {},
   "outputs": [
    {
     "name": "stdout",
     "output_type": "stream",
     "text": [
      "           Suburb             Address  Rooms Type      Price Method  SellerG  \\\n",
      "0      Abbotsford       68 Studley St      2    h        NaN     SS   Jellis   \n",
      "1      Abbotsford        85 Turner St      2    h  1480000.0      S   Biggin   \n",
      "2      Abbotsford     25 Bloomburg St      2    h  1035000.0      S   Biggin   \n",
      "3      Abbotsford  18/659 Victoria St      3    u        NaN     VB   Rounds   \n",
      "4      Abbotsford        5 Charles St      3    h  1465000.0     SP   Biggin   \n",
      "...           ...                 ...    ...  ...        ...    ...      ...   \n",
      "34850     Wollert    15 Rockgarden Wy      3    h        NaN     SP       LJ   \n",
      "34852  Yarraville         13 Burns St      4    h  1480000.0     PI      Jas   \n",
      "34853  Yarraville       29A Murray St      2    h   888000.0     SP  Sweeney   \n",
      "34854  Yarraville      147A Severn St      2    t   705000.0      S      Jas   \n",
      "34856  Yarraville    3 Tarrengower St      2    h  1020000.0     PI       RW   \n",
      "\n",
      "             Date  Distance  Postcode  Bedroom2  Bathroom  Car  \\\n",
      "0       3/09/2016       2.5    3067.0       2.0       1.0  1.0   \n",
      "1       3/12/2016       2.5    3067.0       2.0       1.0  1.0   \n",
      "2       4/02/2016       2.5    3067.0       2.0       1.0  0.0   \n",
      "3       4/02/2016       2.5    3067.0       3.0       2.0  1.0   \n",
      "4       4/03/2017       2.5    3067.0       3.0       2.0  0.0   \n",
      "...           ...       ...       ...       ...       ...  ...   \n",
      "34850  24/02/2018      25.5    3750.0       3.0       2.0  2.0   \n",
      "34852  24/02/2018       6.3    3013.0       4.0       1.0  3.0   \n",
      "34853  24/02/2018       6.3    3013.0       2.0       2.0  1.0   \n",
      "34854  24/02/2018       6.3    3013.0       2.0       1.0  2.0   \n",
      "34856  24/02/2018       6.3    3013.0       2.0       1.0  0.0   \n",
      "\n",
      "                    CouncilArea  Lattitude  Longtitude             Regionname  \\\n",
      "0            Yarra City Council  -37.80140   144.99580  Northern Metropolitan   \n",
      "1            Yarra City Council  -37.79960   144.99840  Northern Metropolitan   \n",
      "2            Yarra City Council  -37.80790   144.99340  Northern Metropolitan   \n",
      "3            Yarra City Council  -37.81140   145.01160  Northern Metropolitan   \n",
      "4            Yarra City Council  -37.80930   144.99440  Northern Metropolitan   \n",
      "...                         ...        ...         ...                    ...   \n",
      "34850   Whittlesea City Council  -37.61094   145.04281  Northern Metropolitan   \n",
      "34852  Maribyrnong City Council  -37.81053   144.88467   Western Metropolitan   \n",
      "34853  Maribyrnong City Council  -37.81551   144.88826   Western Metropolitan   \n",
      "34854  Maribyrnong City Council  -37.82286   144.87856   Western Metropolitan   \n",
      "34856  Maribyrnong City Council  -37.81810   144.89351   Western Metropolitan   \n",
      "\n",
      "       Propertycount  \n",
      "0             4019.0  \n",
      "1             4019.0  \n",
      "2             4019.0  \n",
      "3             4019.0  \n",
      "4             4019.0  \n",
      "...              ...  \n",
      "34850         2940.0  \n",
      "34852         6543.0  \n",
      "34853         6543.0  \n",
      "34854         6543.0  \n",
      "34856         6543.0  \n",
      "\n",
      "[26129 rows x 18 columns]\n"
     ]
    }
   ],
   "source": [
    "#updating above operations\n",
    "df1=data\n",
    "print(df1)"
   ]
  },
  {
   "cell_type": "code",
   "execution_count": 78,
   "id": "3e2031cc",
   "metadata": {},
   "outputs": [
    {
     "name": "stdout",
     "output_type": "stream",
     "text": [
      "           Suburb             Address  Rooms Type      Price Method  SellerG  \\\n",
      "0      Abbotsford       68 Studley St      2    h        NaN     SS   Jellis   \n",
      "1      Abbotsford        85 Turner St      2    h  1480000.0      S   Biggin   \n",
      "2      Abbotsford     25 Bloomburg St      2    h  1035000.0      S   Biggin   \n",
      "3      Abbotsford  18/659 Victoria St      3    u        NaN     VB   Rounds   \n",
      "4      Abbotsford        5 Charles St      3    h  1465000.0     SP   Biggin   \n",
      "...           ...                 ...    ...  ...        ...    ...      ...   \n",
      "34850     Wollert    15 Rockgarden Wy      3    h        NaN     SP       LJ   \n",
      "34852  Yarraville         13 Burns St      4    h  1480000.0     PI      Jas   \n",
      "34853  Yarraville       29A Murray St      2    h   888000.0     SP  Sweeney   \n",
      "34854  Yarraville      147A Severn St      2    t   705000.0      S      Jas   \n",
      "34856  Yarraville    3 Tarrengower St      2    h  1020000.0     PI       RW   \n",
      "\n",
      "             Date  Distance  Postcode  Bedroom2  Bathroom  Car  \\\n",
      "0       3/09/2016       2.5    3067.0       2.0       1.0  1.0   \n",
      "1       3/12/2016       2.5    3067.0       2.0       1.0  1.0   \n",
      "2       4/02/2016       2.5    3067.0       2.0       1.0  0.0   \n",
      "3       4/02/2016       2.5    3067.0       3.0       2.0  1.0   \n",
      "4       4/03/2017       2.5    3067.0       3.0       2.0  0.0   \n",
      "...           ...       ...       ...       ...       ...  ...   \n",
      "34850  24/02/2018      25.5    3750.0       3.0       2.0  2.0   \n",
      "34852  24/02/2018       6.3    3013.0       4.0       1.0  3.0   \n",
      "34853  24/02/2018       6.3    3013.0       2.0       2.0  1.0   \n",
      "34854  24/02/2018       6.3    3013.0       2.0       1.0  2.0   \n",
      "34856  24/02/2018       6.3    3013.0       2.0       1.0  0.0   \n",
      "\n",
      "                    CouncilArea  Lattitude  Longtitude             Regionname  \\\n",
      "0            Yarra City Council  -37.80140   144.99580  Northern Metropolitan   \n",
      "1            Yarra City Council  -37.79960   144.99840  Northern Metropolitan   \n",
      "2            Yarra City Council  -37.80790   144.99340  Northern Metropolitan   \n",
      "3            Yarra City Council  -37.81140   145.01160  Northern Metropolitan   \n",
      "4            Yarra City Council  -37.80930   144.99440  Northern Metropolitan   \n",
      "...                         ...        ...         ...                    ...   \n",
      "34850   Whittlesea City Council  -37.61094   145.04281  Northern Metropolitan   \n",
      "34852  Maribyrnong City Council  -37.81053   144.88467   Western Metropolitan   \n",
      "34853  Maribyrnong City Council  -37.81551   144.88826   Western Metropolitan   \n",
      "34854  Maribyrnong City Council  -37.82286   144.87856   Western Metropolitan   \n",
      "34856  Maribyrnong City Council  -37.81810   144.89351   Western Metropolitan   \n",
      "\n",
      "       Propertycount  \n",
      "0             4019.0  \n",
      "1             4019.0  \n",
      "2             4019.0  \n",
      "3             4019.0  \n",
      "4             4019.0  \n",
      "...              ...  \n",
      "34850         2940.0  \n",
      "34852         6543.0  \n",
      "34853         6543.0  \n",
      "34854         6543.0  \n",
      "34856         6543.0  \n",
      "\n",
      "[26129 rows x 18 columns]\n"
     ]
    }
   ],
   "source": [
    "data=df1[df1['Bedroom2'].notnull()]\n",
    "print(data)"
   ]
  },
  {
   "cell_type": "code",
   "execution_count": 79,
   "id": "f6b2cf86",
   "metadata": {},
   "outputs": [
    {
     "name": "stdout",
     "output_type": "stream",
     "text": [
      "(26129, 18)\n"
     ]
    }
   ],
   "source": [
    "#assigned it to in original data\n",
    "df1=data\n",
    "print(df1.shape)"
   ]
  },
  {
   "cell_type": "code",
   "execution_count": 80,
   "id": "7845adba",
   "metadata": {},
   "outputs": [
    {
     "name": "stdout",
     "output_type": "stream",
     "text": [
      "           Suburb             Address  Rooms Type      Price Method  SellerG  \\\n",
      "0      Abbotsford       68 Studley St      2    h        NaN     SS   Jellis   \n",
      "1      Abbotsford        85 Turner St      2    h  1480000.0      S   Biggin   \n",
      "2      Abbotsford     25 Bloomburg St      2    h  1035000.0      S   Biggin   \n",
      "3      Abbotsford  18/659 Victoria St      3    u        NaN     VB   Rounds   \n",
      "4      Abbotsford        5 Charles St      3    h  1465000.0     SP   Biggin   \n",
      "...           ...                 ...    ...  ...        ...    ...      ...   \n",
      "34850     Wollert    15 Rockgarden Wy      3    h        NaN     SP       LJ   \n",
      "34852  Yarraville         13 Burns St      4    h  1480000.0     PI      Jas   \n",
      "34853  Yarraville       29A Murray St      2    h   888000.0     SP  Sweeney   \n",
      "34854  Yarraville      147A Severn St      2    t   705000.0      S      Jas   \n",
      "34856  Yarraville    3 Tarrengower St      2    h  1020000.0     PI       RW   \n",
      "\n",
      "             Date  Distance  Postcode  Bedroom2  Bathroom  Car  \\\n",
      "0       3/09/2016       2.5    3067.0       2.0       1.0  1.0   \n",
      "1       3/12/2016       2.5    3067.0       2.0       1.0  1.0   \n",
      "2       4/02/2016       2.5    3067.0       2.0       1.0  0.0   \n",
      "3       4/02/2016       2.5    3067.0       3.0       2.0  1.0   \n",
      "4       4/03/2017       2.5    3067.0       3.0       2.0  0.0   \n",
      "...           ...       ...       ...       ...       ...  ...   \n",
      "34850  24/02/2018      25.5    3750.0       3.0       2.0  2.0   \n",
      "34852  24/02/2018       6.3    3013.0       4.0       1.0  3.0   \n",
      "34853  24/02/2018       6.3    3013.0       2.0       2.0  1.0   \n",
      "34854  24/02/2018       6.3    3013.0       2.0       1.0  2.0   \n",
      "34856  24/02/2018       6.3    3013.0       2.0       1.0  0.0   \n",
      "\n",
      "                    CouncilArea  Lattitude  Longtitude             Regionname  \\\n",
      "0            Yarra City Council  -37.80140   144.99580  Northern Metropolitan   \n",
      "1            Yarra City Council  -37.79960   144.99840  Northern Metropolitan   \n",
      "2            Yarra City Council  -37.80790   144.99340  Northern Metropolitan   \n",
      "3            Yarra City Council  -37.81140   145.01160  Northern Metropolitan   \n",
      "4            Yarra City Council  -37.80930   144.99440  Northern Metropolitan   \n",
      "...                         ...        ...         ...                    ...   \n",
      "34850   Whittlesea City Council  -37.61094   145.04281  Northern Metropolitan   \n",
      "34852  Maribyrnong City Council  -37.81053   144.88467   Western Metropolitan   \n",
      "34853  Maribyrnong City Council  -37.81551   144.88826   Western Metropolitan   \n",
      "34854  Maribyrnong City Council  -37.82286   144.87856   Western Metropolitan   \n",
      "34856  Maribyrnong City Council  -37.81810   144.89351   Western Metropolitan   \n",
      "\n",
      "       Propertycount  \n",
      "0             4019.0  \n",
      "1             4019.0  \n",
      "2             4019.0  \n",
      "3             4019.0  \n",
      "4             4019.0  \n",
      "...              ...  \n",
      "34850         2940.0  \n",
      "34852         6543.0  \n",
      "34853         6543.0  \n",
      "34854         6543.0  \n",
      "34856         6543.0  \n",
      "\n",
      "[26129 rows x 18 columns]\n"
     ]
    }
   ],
   "source": [
    "data=df1[df1['Bathroom'].notnull()]\n",
    "print(data)"
   ]
  },
  {
   "cell_type": "code",
   "execution_count": 82,
   "id": "ec2fe124",
   "metadata": {},
   "outputs": [
    {
     "name": "stdout",
     "output_type": "stream",
     "text": [
      "(26129, 18)\n"
     ]
    }
   ],
   "source": [
    "#assigned it to in original data\n",
    "df1=data\n",
    "print(df1.shape)"
   ]
  },
  {
   "cell_type": "code",
   "execution_count": 84,
   "id": "ff99ff25",
   "metadata": {},
   "outputs": [
    {
     "name": "stdout",
     "output_type": "stream",
     "text": [
      "           Suburb           Address  Rooms Type      Price Method  SellerG  \\\n",
      "1      Abbotsford      85 Turner St      2    h  1480000.0      S   Biggin   \n",
      "2      Abbotsford   25 Bloomburg St      2    h  1035000.0      S   Biggin   \n",
      "4      Abbotsford      5 Charles St      3    h  1465000.0     SP   Biggin   \n",
      "5      Abbotsford  40 Federation La      3    h   850000.0     PI   Biggin   \n",
      "6      Abbotsford       55a Park St      4    h  1600000.0     VB   Nelson   \n",
      "...           ...               ...    ...  ...        ...    ...      ...   \n",
      "34849     Wollert   35 Kingscote Wy      3    h   570000.0     SP       RW   \n",
      "34852  Yarraville       13 Burns St      4    h  1480000.0     PI      Jas   \n",
      "34853  Yarraville     29A Murray St      2    h   888000.0     SP  Sweeney   \n",
      "34854  Yarraville    147A Severn St      2    t   705000.0      S      Jas   \n",
      "34856  Yarraville  3 Tarrengower St      2    h  1020000.0     PI       RW   \n",
      "\n",
      "             Date  Distance  Postcode  Bedroom2  Bathroom  Car  \\\n",
      "1       3/12/2016       2.5    3067.0       2.0       1.0  1.0   \n",
      "2       4/02/2016       2.5    3067.0       2.0       1.0  0.0   \n",
      "4       4/03/2017       2.5    3067.0       3.0       2.0  0.0   \n",
      "5       4/03/2017       2.5    3067.0       3.0       2.0  1.0   \n",
      "6       4/06/2016       2.5    3067.0       3.0       1.0  2.0   \n",
      "...           ...       ...       ...       ...       ...  ...   \n",
      "34849  24/02/2018      25.5    3750.0       3.0       2.0  2.0   \n",
      "34852  24/02/2018       6.3    3013.0       4.0       1.0  3.0   \n",
      "34853  24/02/2018       6.3    3013.0       2.0       2.0  1.0   \n",
      "34854  24/02/2018       6.3    3013.0       2.0       1.0  2.0   \n",
      "34856  24/02/2018       6.3    3013.0       2.0       1.0  0.0   \n",
      "\n",
      "                    CouncilArea  Lattitude  Longtitude             Regionname  \\\n",
      "1            Yarra City Council  -37.79960   144.99840  Northern Metropolitan   \n",
      "2            Yarra City Council  -37.80790   144.99340  Northern Metropolitan   \n",
      "4            Yarra City Council  -37.80930   144.99440  Northern Metropolitan   \n",
      "5            Yarra City Council  -37.79690   144.99690  Northern Metropolitan   \n",
      "6            Yarra City Council  -37.80720   144.99410  Northern Metropolitan   \n",
      "...                         ...        ...         ...                    ...   \n",
      "34849   Whittlesea City Council  -37.61031   145.03393  Northern Metropolitan   \n",
      "34852  Maribyrnong City Council  -37.81053   144.88467   Western Metropolitan   \n",
      "34853  Maribyrnong City Council  -37.81551   144.88826   Western Metropolitan   \n",
      "34854  Maribyrnong City Council  -37.82286   144.87856   Western Metropolitan   \n",
      "34856  Maribyrnong City Council  -37.81810   144.89351   Western Metropolitan   \n",
      "\n",
      "       Propertycount  \n",
      "1             4019.0  \n",
      "2             4019.0  \n",
      "4             4019.0  \n",
      "5             4019.0  \n",
      "6             4019.0  \n",
      "...              ...  \n",
      "34849         2940.0  \n",
      "34852         6543.0  \n",
      "34853         6543.0  \n",
      "34854         6543.0  \n",
      "34856         6543.0  \n",
      "\n",
      "[20423 rows x 18 columns]\n"
     ]
    }
   ],
   "source": [
    "data=df1[df1['Price'].notnull()]\n",
    "print(data)"
   ]
  },
  {
   "cell_type": "code",
   "execution_count": 85,
   "id": "35a7f837",
   "metadata": {},
   "outputs": [
    {
     "name": "stdout",
     "output_type": "stream",
     "text": [
      "(20423, 18)\n"
     ]
    }
   ],
   "source": [
    "#assigned it to in original data\n",
    "df1=data\n",
    "print(df1.shape)"
   ]
  },
  {
   "cell_type": "code",
   "execution_count": 87,
   "id": "5adb2143",
   "metadata": {},
   "outputs": [
    {
     "name": "stdout",
     "output_type": "stream",
     "text": [
      "Longtitude       22\n",
      "Lattitude        22\n",
      "Suburb            0\n",
      "Address           0\n",
      "Regionname        0\n",
      "CouncilArea       0\n",
      "Car               0\n",
      "Bathroom          0\n",
      "Bedroom2          0\n",
      "Postcode          0\n",
      "Distance          0\n",
      "Date              0\n",
      "SellerG           0\n",
      "Method            0\n",
      "Price             0\n",
      "Type              0\n",
      "Rooms             0\n",
      "Propertycount     0\n",
      "dtype: int64\n"
     ]
    }
   ],
   "source": [
    "data=df1.isnull().sum().sort_values(ascending=False)\n",
    "print(data)"
   ]
  },
  {
   "cell_type": "code",
   "execution_count": 88,
   "id": "91c42854",
   "metadata": {},
   "outputs": [
    {
     "name": "stdout",
     "output_type": "stream",
     "text": [
      "LATITUDE AND LONGITUDE           Lattitude    Longtitude\n",
      "count  20401.000000  20401.000000\n",
      "mean     -37.806842    144.997212\n",
      "std        0.092208      0.120885\n",
      "min      -38.190430    144.423790\n",
      "25%      -37.861300    144.924900\n",
      "50%      -37.799800    145.004500\n",
      "75%      -37.748000    145.069500\n",
      "max      -37.397800    145.526350\n"
     ]
    }
   ],
   "source": [
    "#now we have only longitude & latitude columns . which have some null values\n",
    "#first we will fetch latitude and longitude and later will implement mean value over missing data\n",
    "\n",
    "data=df1.loc[:,['Lattitude','Longtitude']].describe()\n",
    "print(\"LATITUDE AND LONGITUDE\",data)"
   ]
  },
  {
   "cell_type": "code",
   "execution_count": 89,
   "id": "96747289",
   "metadata": {},
   "outputs": [
    {
     "name": "stdout",
     "output_type": "stream",
     "text": [
      "all rows of that column 1       -37.79960\n",
      "2       -37.80790\n",
      "4       -37.80930\n",
      "5       -37.79690\n",
      "6       -37.80720\n",
      "           ...   \n",
      "34849   -37.61031\n",
      "34852   -37.81053\n",
      "34853   -37.81551\n",
      "34854   -37.82286\n",
      "34856   -37.81810\n",
      "Name: Lattitude, Length: 20423, dtype: float64\n"
     ]
    }
   ],
   "source": [
    "#replacing it with mean values\n",
    "\n",
    "data=df1.loc[:,'Lattitude'].fillna(df1['Lattitude'].mean())\n",
    "print(\"all rows of that column\",data)"
   ]
  },
  {
   "cell_type": "code",
   "execution_count": 90,
   "id": "17f97104",
   "metadata": {},
   "outputs": [
    {
     "name": "stdout",
     "output_type": "stream",
     "text": [
      "1        144.99840\n",
      "2        144.99340\n",
      "4        144.99440\n",
      "5        144.99690\n",
      "6        144.99410\n",
      "           ...    \n",
      "34849    145.03393\n",
      "34852    144.88467\n",
      "34853    144.88826\n",
      "34854    144.87856\n",
      "34856    144.89351\n",
      "Name: Longtitude, Length: 20423, dtype: float64\n"
     ]
    }
   ],
   "source": [
    "#for longitude now\n",
    "data=df1.loc[:,'Longtitude'].fillna(df1['Longtitude'].mean())\n",
    "print(data)"
   ]
  },
  {
   "cell_type": "code",
   "execution_count": 91,
   "id": "511d4044",
   "metadata": {},
   "outputs": [
    {
     "name": "stdout",
     "output_type": "stream",
     "text": [
      "Suburb            0\n",
      "Address           0\n",
      "Rooms             0\n",
      "Type              0\n",
      "Price             0\n",
      "Method            0\n",
      "SellerG           0\n",
      "Date              0\n",
      "Distance          0\n",
      "Postcode          0\n",
      "Bedroom2          0\n",
      "Bathroom          0\n",
      "Car               0\n",
      "CouncilArea       0\n",
      "Lattitude        22\n",
      "Longtitude       22\n",
      "Regionname        0\n",
      "Propertycount     0\n",
      "dtype: int64\n"
     ]
    }
   ],
   "source": [
    "#now checking any field still corrupted with null values or not\n",
    "print(df1.isnull().sum())"
   ]
  },
  {
   "cell_type": "code",
   "execution_count": 95,
   "id": "5a3a0715",
   "metadata": {},
   "outputs": [
    {
     "data": {
      "text/plain": [
       "<AxesSubplot:>"
      ]
     },
     "execution_count": 95,
     "metadata": {},
     "output_type": "execute_result"
    },
    {
     "data": {
      "image/png": "[encoded data removed]",
      "text/plain": [
       "<Figure size 432x288 with 2 Axes>"
      ]
     },
     "metadata": {
      "needs_background": "light"
     },
     "output_type": "display_data"
    }
   ],
   "source": [
    "sns.heatmap(df1.isnull(), yticklabels=False)"
   ]
  },
  {
   "cell_type": "code",
   "execution_count": null,
   "id": "1bd296d7",
   "metadata": {},
   "outputs": [],
   "source": [
    "#new data sheet........................converting it into house_data.csv\n",
    "df1.to_csv('New_Melbourne_housing_FULL.csv')"
   ]
  }
 ],
 "metadata": {
  "kernelspec": {
   "display_name": "Python 3 (ipykernel)",
   "language": "python",
   "name": "python3"
  },
  "language_info": {
   "codemirror_mode": {
    "name": "ipython",
    "version": 3
   },
   "file_extension": ".py",
   "mimetype": "text/x-python",
   "name": "python",
   "nbconvert_exporter": "python",
   "pygments_lexer": "ipython3",
   "version": "3.9.12"
  }
 },
 "nbformat": 4,
 "nbformat_minor": 5
}
